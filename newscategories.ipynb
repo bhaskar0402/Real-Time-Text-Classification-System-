{
 "cells": [
  {
   "cell_type": "code",
   "execution_count": 490,
   "metadata": {},
   "outputs": [
    {
     "name": "stdout",
     "output_type": "stream",
     "text": [
      "Requirement already satisfied: nltk in /Users/bhaskaradhikari/anaconda3/lib/python3.11/site-packages (3.8.1)\n",
      "Requirement already satisfied: click in /Users/bhaskaradhikari/anaconda3/lib/python3.11/site-packages (from nltk) (8.0.4)\n",
      "Requirement already satisfied: joblib in /Users/bhaskaradhikari/anaconda3/lib/python3.11/site-packages (from nltk) (1.2.0)\n",
      "Requirement already satisfied: regex>=2021.8.3 in /Users/bhaskaradhikari/anaconda3/lib/python3.11/site-packages (from nltk) (2022.7.9)\n",
      "Requirement already satisfied: tqdm in /Users/bhaskaradhikari/anaconda3/lib/python3.11/site-packages (from nltk) (4.65.0)\n"
     ]
    }
   ],
   "source": [
    "!pip install nltk"
   ]
  },
  {
   "cell_type": "code",
   "execution_count": 491,
   "metadata": {},
   "outputs": [
    {
     "name": "stdout",
     "output_type": "stream",
     "text": [
      "File read successfully with encoding: Latin-1\n",
      "                                                News Category\n",
      "0  The IMF now expects China's economy to grow by...  Economy\n",
      "1  Manufacturing activity in the Eurozone has dec...  Economy\n",
      "2  Continued disruptions in the global supply cha...  Economy\n",
      "3  Concerns about food security remain high due t...  Economy\n",
      "4  While some central banks, like the US Federal ...  Economy\n"
     ]
    },
    {
     "data": {
      "text/html": [
       "<div>\n",
       "<style scoped>\n",
       "    .dataframe tbody tr th:only-of-type {\n",
       "        vertical-align: middle;\n",
       "    }\n",
       "\n",
       "    .dataframe tbody tr th {\n",
       "        vertical-align: top;\n",
       "    }\n",
       "\n",
       "    .dataframe thead th {\n",
       "        text-align: right;\n",
       "    }\n",
       "</style>\n",
       "<table border=\"1\" class=\"dataframe\">\n",
       "  <thead>\n",
       "    <tr style=\"text-align: right;\">\n",
       "      <th></th>\n",
       "      <th>News</th>\n",
       "      <th>Category</th>\n",
       "    </tr>\n",
       "  </thead>\n",
       "  <tbody>\n",
       "    <tr>\n",
       "      <th>0</th>\n",
       "      <td>The IMF now expects China's economy to grow by...</td>\n",
       "      <td>Economy</td>\n",
       "    </tr>\n",
       "    <tr>\n",
       "      <th>1</th>\n",
       "      <td>Manufacturing activity in the Eurozone has dec...</td>\n",
       "      <td>Economy</td>\n",
       "    </tr>\n",
       "    <tr>\n",
       "      <th>2</th>\n",
       "      <td>Continued disruptions in the global supply cha...</td>\n",
       "      <td>Economy</td>\n",
       "    </tr>\n",
       "    <tr>\n",
       "      <th>3</th>\n",
       "      <td>Concerns about food security remain high due t...</td>\n",
       "      <td>Economy</td>\n",
       "    </tr>\n",
       "    <tr>\n",
       "      <th>4</th>\n",
       "      <td>While some central banks, like the US Federal ...</td>\n",
       "      <td>Economy</td>\n",
       "    </tr>\n",
       "  </tbody>\n",
       "</table>\n",
       "</div>"
      ],
      "text/plain": [
       "                                                News Category\n",
       "0  The IMF now expects China's economy to grow by...  Economy\n",
       "1  Manufacturing activity in the Eurozone has dec...  Economy\n",
       "2  Continued disruptions in the global supply cha...  Economy\n",
       "3  Concerns about food security remain high due t...  Economy\n",
       "4  While some central banks, like the US Federal ...  Economy"
      ]
     },
     "execution_count": 491,
     "metadata": {},
     "output_type": "execute_result"
    }
   ],
   "source": [
    "encodings_to_try = ['utf-8', 'Latin-1', 'ISO-8859-1']\n",
    "\n",
    "for encoding in encodings_to_try:\n",
    "    try:\n",
    "        df = pd.read_csv('News Categoires.csv', encoding=encoding)\n",
    "        print(\"File read successfully with encoding:\", encoding)\n",
    "        print(df.head())\n",
    "        break\n",
    "    except UnicodeDecodeError:\n",
    "        pass\n",
    "\n",
    "df.head()"
   ]
  },
  {
   "cell_type": "code",
   "execution_count": 492,
   "metadata": {},
   "outputs": [
    {
     "name": "stdout",
     "output_type": "stream",
     "text": [
      "<class 'pandas.core.frame.DataFrame'>\n",
      "RangeIndex: 252 entries, 0 to 251\n",
      "Data columns (total 2 columns):\n",
      " #   Column    Non-Null Count  Dtype \n",
      "---  ------    --------------  ----- \n",
      " 0   News      252 non-null    object\n",
      " 1   Category  252 non-null    object\n",
      "dtypes: object(2)\n",
      "memory usage: 4.1+ KB\n"
     ]
    }
   ],
   "source": [
    "df.info()"
   ]
  },
  {
   "cell_type": "code",
   "execution_count": 493,
   "metadata": {},
   "outputs": [
    {
     "data": {
      "text/html": [
       "<div>\n",
       "<style scoped>\n",
       "    .dataframe tbody tr th:only-of-type {\n",
       "        vertical-align: middle;\n",
       "    }\n",
       "\n",
       "    .dataframe tbody tr th {\n",
       "        vertical-align: top;\n",
       "    }\n",
       "\n",
       "    .dataframe thead th {\n",
       "        text-align: right;\n",
       "    }\n",
       "</style>\n",
       "<table border=\"1\" class=\"dataframe\">\n",
       "  <thead>\n",
       "    <tr style=\"text-align: right;\">\n",
       "      <th></th>\n",
       "      <th>News</th>\n",
       "      <th>Category</th>\n",
       "    </tr>\n",
       "  </thead>\n",
       "  <tbody>\n",
       "    <tr>\n",
       "      <th>count</th>\n",
       "      <td>252</td>\n",
       "      <td>252</td>\n",
       "    </tr>\n",
       "    <tr>\n",
       "      <th>unique</th>\n",
       "      <td>252</td>\n",
       "      <td>8</td>\n",
       "    </tr>\n",
       "    <tr>\n",
       "      <th>top</th>\n",
       "      <td>The IMF now expects China's economy to grow by...</td>\n",
       "      <td>Entertainment</td>\n",
       "    </tr>\n",
       "    <tr>\n",
       "      <th>freq</th>\n",
       "      <td>1</td>\n",
       "      <td>39</td>\n",
       "    </tr>\n",
       "  </tbody>\n",
       "</table>\n",
       "</div>"
      ],
      "text/plain": [
       "                                                     News       Category\n",
       "count                                                 252            252\n",
       "unique                                                252              8\n",
       "top     The IMF now expects China's economy to grow by...  Entertainment\n",
       "freq                                                    1             39"
      ]
     },
     "execution_count": 493,
     "metadata": {},
     "output_type": "execute_result"
    }
   ],
   "source": [
    "df.describe()"
   ]
  },
  {
   "cell_type": "code",
   "execution_count": 494,
   "metadata": {},
   "outputs": [
    {
     "name": "stderr",
     "output_type": "stream",
     "text": [
      "[nltk_data] Downloading package stopwords to\n",
      "[nltk_data]     /Users/bhaskaradhikari/nltk_data...\n",
      "[nltk_data]   Package stopwords is already up-to-date!\n"
     ]
    }
   ],
   "source": [
    "#Data cleaning and preprocessing\n",
    "import re\n",
    "import nltk\n",
    "from nltk.corpus import stopwords\n",
    "from nltk.stem.porter import PorterStemmer\n",
    "ps=PorterStemmer()\n",
    "nltk.download('stopwords')\n",
    "stop_word=set(stopwords.words('english'))"
   ]
  },
  {
   "cell_type": "code",
   "execution_count": 495,
   "metadata": {},
   "outputs": [
    {
     "data": {
      "text/plain": [
       "['imf expect china economi grow 5 4 year higher previou estim reflect china shift away zero covid polici increas govern stimulu',\n",
       " 'manufactur activ eurozon declin retail sale fallen rais concern possibl recess come month',\n",
       " 'continu disrupt global suppli chain includ recent houthi attack red sea push ship cost impact trade',\n",
       " 'concern food secur remain high due war ukrain drought region lead price increas essenti commod',\n",
       " 'central bank like us feder reserv continu rais interest rate combat inflat other start eas monetari polici support econom growth',\n",
       " 'bangladeshi worker abroad continu send strong remitt home support economi improv live standard',\n",
       " 'centr econom busi research cebr predict bangladesh econom boom potenti gdp size 1 628 billion 2037',\n",
       " 'bangladesh maintain macroeconom stabil despit global challeng attract foreign invest boost busi confid',\n",
       " 'govern invest infrastructur project like road bridg port improv connect boost econom activ',\n",
       " 'us unemploy rate drop 3 5 lowest level decad reflect strong labor market',\n",
       " 'india fast grow economi project surpass japan becom third largest global 2035',\n",
       " 'turbul year cryptocurr market shown sign recoveri recent month bitcoin lead currenc rise',\n",
       " 'artifici intellig advanc acceler across variou sector lead new product servic busi model',\n",
       " 'extrem weather event like flood drought highlight urgenc address climat chang transit renew energi sourc',\n",
       " 'world bank institut forecast global econom slowdown 2024 due factor like rise interest rate ongo geopolit tension',\n",
       " 'sustain practic green technolog gain traction busi consum priorit environment respons',\n",
       " 'digit economi expand rapidli creat new opportun onlin busi e commerc',\n",
       " 'gap rich poor widen mani countri rais concern social unrest instabl',\n",
       " 'ongo trade war us china along trade disput pose uncertainti global trade econom growth',\n",
       " 'univers flu vaccin could horizon scientist made signific progress develop univers flu vaccin would protect strain viru could game changer fight flu caus million infect ten thousand death year',\n",
       " 'new gene therapi treatment show promis hemophilia new gene therapi treatment shown promis result earli clinic trial peopl hemophilia rare bleed disord treatment involv inject healthi copi gene mutat peopl hemophilia help bodi produc clot factor miss defect',\n",
       " '3d print cornea could restor sight million research develop method 3d print cornea could restor sight million peopl blind sever impair vision cornea made special biocompat ink custom fit individu patient eye',\n",
       " 'gut bacteria may play role alzheim diseas studi shown may link gut bacteria alzheim diseas research investig chang gut microbiom may contribut develop alzheim whether probiot treatment could use modifi gut bacteria slow progress diseas',\n",
       " 'artifici intellig help diagnos diseas faster accur artifici intellig ai use develop new tool help doctor diagnos diseas faster accur exampl ai algorithm use analyz medic imag x ray mri detect sign diseas',\n",
       " 'new treatment show promis advanc melanoma new treatment call car cell therapi shown promis result earli clinic trial peopl advanc melanoma type skin cancer car cell therapi involv take patient cell white blood cell help fight infect engin attack cancer cell',\n",
       " 'scientist develop new test detect earli sign lung cancer research develop new blood test detect earli sign lung cancer even symptom appear test look chang dna associ lung cancer',\n",
       " 'new guidelin prevent colon cancer american cancer societi updat guidelin prevent colon cancer new guidelin recommend peopl averag risk colon cancer begin screen age 45 five year earlier previou recommend',\n",
       " 'studi find exercis may help reduc risk alzheim diseas new studi found regular exercis may help reduc risk develop alzheim diseas studi found peopl exercis regularli less like develop alzheim inact',\n",
       " 'new drug show promis treatment hepat c new drug call sofosbuvir shown promis result clinic trial treatment hepat c viral infect liver sofosbuvir highli effect drug cure hepat c peopl infect',\n",
       " 'scientist develop new vaccin zika viru research develop new vaccin effect prevent zika viru infect mice vaccin yet readi human test import step forward develop zika vaccin',\n",
       " 'new guidelin treatment high blood pressur american heart associ updat guidelin treatment high blood pressur new guidelin recommend peopl high blood pressur start take medic lower blood pressur threshold previous recommend',\n",
       " 'studi find air pollut may increas risk heart diseas new studi found air pollut may increas risk heart diseas studi found peopl live area high level air pollut like develop heart diseas live area low level air pollut',\n",
       " '1 new studi find diet soda may increas risk stroke new studi found diet soda may increas risk stroke studi found peopl drink diet soda regularli like stroke drink diet soda',\n",
       " 'box day test australia pakistan provid cricket action also lightheart entertain mcg crowd hilari enact travi head uniqu bat stanc celebr left hander score centuri video went viral ad touch fun intens competit field',\n",
       " 'team pbg eagl led daniil medvedev andrey rublev sofia kenin emerg victori world tenni leagu 2023 eagl domin competit defeat team falcon team hawk claim trophi medvedev rublev display power groundstrok kenin impress around game',\n",
       " 'indian women hockey team continu win streak 5 nation hockey tournament hard fought 2 1 victori ireland navneet kaur lalremsiami score goal india ayeisha mcferran net lone goal ireland win keep india top tabl three win mani match',\n",
       " 'former nfl star juliu pepper antonio gate among finalist pro footbal hall fame class 2024 pepper domin defens end gate prolif tight end surefir first ballot choic expect join hall fame next year',\n",
       " 'k andr miller night rememb score goal two assist lead new york ranger 5 1 win washington capit ranger domin game start finish miller set tone offens outburst',\n",
       " 'baltimor raven playoff content thank stellar play quarterback lamar jackson howev jackson alreadi mention potenti 1 overal pick 2024 nfl draft despit specul jackson raven focus finish season strong make deep playoff run',\n",
       " 'aaron judg american leagu mvp reportedli reject new york yanke latest contract offer 315 million eight year judg seek longer lucr deal remain seen two side reach agreement free agenc period start',\n",
       " 'conor mcgregor ufc biggest star announc return octagon 2024 mcgregor sidelin sinc suffer leg injuri juli 2021 fulli recov readi get back cage oppon fight date yet determin mcgregor return sure gener excit among mma fan',\n",
       " 'tiger wood one greatest golfer time hope make comeback competit golf 2',\n",
       " 'india inexperienc bowl attack struggl south africa bat day 3 box day test leav visitor trail 200 run supersport park centurion elgar 140 cancel rahul 101 india pace threat fell flat second session virat kohli gave fieri pep talk team huddl ahead final session day 2 remain seen india turn thing around remain day',\n",
       " 'mani young athlet make wave world sport player like ja marr chase nfl paolo banchero nba coco gauff tenni rise star expect long success career',\n",
       " 'world esport boom major tournament take place variou game throughout year leagu legend world championship dota 2 intern fortnit world cup popular esport event',\n",
       " 'qualifi next cricket world cup take place team around world battl spot tournament qualifi great opportun lesser known team showcas talent compet best',\n",
       " 'lee sun kyun korean actor parasit pass away 48 south korean act commun mourn sudden loss veteran actor lee sun kyun found dead park car decemb 27th',\n",
       " 'taylor swift fan die rio concert follow heat exhaust tragic incid taylor swift concert rio de janeiro left fan dead heat exhaust highlight concern concert safeti fan well',\n",
       " 'karan johar reveal said ye kuch kuch hota hai celebr salman khan birthday filmmak karan johar share heartwarm anecdot collabor icon film kuch kuch hota hai',\n",
       " 'shah rukh khan reveal origin offer lead role rajkumar hirani directori hit munna bhai mbb 3 idiot ad new layer histori cult classic',\n",
       " 'actress yami gautam dhar speak import support celebr fellow femal actor industri advoc inclus collabor environ',\n",
       " 'welcom twin daughter may televis star rubina dilaik abhinav shukla final unveil name share heartwarm pictur grow famili',\n",
       " 'pop star ariana grand take break spotlight enjoy famili dinner boyfriend ethan slater new york citi remind fan import balanc career person life',\n",
       " 'tension rise insid bigg boss 17 hous ankita lokhand confront vicki jain aggress behavior spark anoth heat convers among contest',\n",
       " 'bring togeth music world k pop idol aoora visit bigg boss 17 teach contest neil bhatt signatur danc move global phenomenon bt',\n",
       " 'follow critic acclaim tamil film viduthalai part 2 secur covet slot intern film festiv rotterdam 2024 mark signific achiev indian cinema',\n",
       " 'despit high anticip salman khan latest film dunki fail impress box offic lead specul possibl releas ott platform',\n",
       " 'signific move shind govern maharashtra announc financi aid rs 10 lakh everi madrasa state aim support educ empow muslim commun',\n",
       " 'behind scene drama engulf upcom film anim alleg favorit toward tripti dimri surfac produc defend claim bia',\n",
       " 'kannada cinema see surg excit darshan action film kaatera cross 1 crore mark advanc book promis success open weekend',\n",
       " 'k pop fan bid farewel lee jeno nct dream announc upcom enlist south korean militari mark temporari break music career',\n",
       " 'taylor swift drop surpris christma singl snowfal juli taylor swift gift fan unexpect christma present releas new singl snowfal juli ad touch winter magic holiday season',\n",
       " 'fan dr seuss classic disappoint netflix announc cancel anim seri green egg ham plan releas',\n",
       " 'rumor swirl sourc hint possibl second wed jennif lopez ben affleck report suggest vow renew ceremoni georgia',\n",
       " 'race golden globe heat nomin announc prestigi award ceremoni bring',\n",
       " 'thousand migrant central america haiti form caravan southern mexico hope reach unit state time presid joe biden visit region next month caravan estim around 3 000 peopl strong began journey tapachula chiapa decemb 24th expect grow make way north mexico biden administr said commit work mexico countri region address root caus migrat poverti violenc howev administr also critic handl border crisi republican call stricter enforc immigr law',\n",
       " 'pope franci celebr christma eve mass st peter basilica call peac ukrain war torn region world homili pope said heart bethlehem birthplac jesu also ukrain syria yemen holi land mani children suffer consequ war violenc indiffer urg faith open heart suffer build bridg fratern solidar',\n",
       " 'least 68 palestinian kill 192 wound isra airstrik refuge camp central gaza decemb 24th strike target hama train facil one deadliest ongo conflict israel hama isra militari said strike justifi target terrorist target howev palestinian offici human right group condemn strike call war crime',\n",
       " 'malian soldier arrest prime minist choguel kokalla maiga presid ibrahim boubacar keita coup tat may 24 2022 soldier also seiz control state televis radio station coup leader call nation committe salvat peopl cnsp said taken govern failur address countri secur econom problem coup condemn intern commun includ unit nation african union european union',\n",
       " 'bola tinubu candid progress congress apc declar winner nigeria presidenti elect februari 25 2023 tinubu defeat atiku abubakar peopl democrat parti pdp peter obi labour parti elect mar violenc irregular intern observ said gener free fair tinubu victori seen sign countri continu polit stabil',\n",
       " 'republican control hous repres u midterm elect novemb 8 2022 gop gain least 30 seat hous give comfort major democrat retain control senat republican victori seen rebuk presid joe biden polici',\n",
       " 'luiz cio lula da silva former presid brazil defeat incumb jair bolsonaro countri presidenti elect octob 30 2022 lula da silva 50 9 vote bolsonaro receiv 49 1 elect seen sign countri deep polit divis lula da silva victori seen return power left wing worker parti pt',\n",
       " 'januari 3 2023 u hous repres elect republican kevin mccarthi new speaker mark return power gop four year minor mccarthi narrow victori came chaotic histor 15 round vote centuri',\n",
       " 'februari 24 2023 russia launch full scale invas ukrain trigger major intern crisi war caus widespread devast thousand casualti million displac conflict also signific impact global economi lead rise energi price food shortag',\n",
       " 'juli 7 2023 bori johnson resign prime minist unit kingdom follow seri scandal resign govern johnson premiership mark brexit covid 19 pandem',\n",
       " 'octob 30 2023 jair bolsonaro lost elect bid former presid luiz cio lula da silva brazil presidenti elect bolsonaro defeat seen major setback right wing popul latin america',\n",
       " 'april 24 2023 emmanuel macron elect presid franc defeat far right candid marin le pen macron victori seen boost centrist polit europ',\n",
       " 'decemb 8 2021 olaf scholz sworn chancellor germani mark end angela merkel 16 year reign chancellor scholz social democrat parti spd form coalit govern green free democrat fdp',\n",
       " 'xi jinp elect presid china third term consolid power countri leader xi elect seen signific step toward central power china',\n",
       " 'iran world power reach new agreement iranian nuclear program deal aim limit iran nuclear activ exchang lift sanction countri',\n",
       " 'north korea conduct seri ballist missil test rais concern countri nuclear missil program test condemn intern commun led increas tension region',\n",
       " 'japanes prime minist shinzo abe assassin campaign candid japanes parliamentari elect abe death sent shockwav japan world',\n",
       " 'u suprem court overturn roe v wade landmark decis legal abort nationwid rule spark protest across countri reignit debat abort right',\n",
       " 'unit state china engag heat debat unit nation secur council wednesday us accus china increasingli provoc behavior toward taiwan china urg us stop interf intern affair debat latest sign grow tension two superpow taiwan china claim breakaway provinc',\n",
       " 'russia ukrain agre extend deal allow export grain ukrain black sea deal broker unit nation turkey juli due expir novemb 19 extens seen posit develop help eas global food crisi exacerb war ukrain',\n",
       " 'north korea launch ballist missil sea east coast accord south korean japanes offici launch latest seri provoc north korea test missil unpreced pace year launch come amid heighten tension korean peninsula follow recent visit us vice presid kamala harri south korea',\n",
       " 'israel hama agre ceasefir day violenc gaza strip ceasefir broker egypt went effect earli wednesday morn fight erupt monday isra forc kill senior hama command airstrik ceasefir seen fragil step toward de escal remain seen whether hold',\n",
       " 'european union leader reach landmark agreement packag climat measur aim make bloc carbon neutral 2050 agreement includ commit increas eu target renew energi least 40 2030 well plan phase fossil fuel subsidi agreement seen major step forward eu climat effort remain seen implement',\n",
       " 'talk iran unit state reviv 2015 nuclear deal stall accord diplomat talk deadlock month iran demand us lift sanction agre take step limit nuclear program us hand insist iran take step first failur reach agreement rais concern possibl new nuclear crisi middl east',\n",
       " 'conflict ethiopia tigray region resum five month truce collaps fight displac hundr thousand peopl rais fear humanitarian catastroph un call side immedi ceas hostil resum peac talk',\n",
       " 'militari junta myanmar execut four democraci activist draw intern condemn execut first myanmar sinc 1988 seen sign junta increas brutal un call junta releas polit prison restor democraci myanmar',\n",
       " 'hong kong govern crack dissent arrest promin pro democraci activist ban polit parti move seen eros hong kong autonomi freedom us western nation condemn crackdown call china respect hong kong autonomi',\n",
       " 'brazil presidenti elect result contest lose candid former presid jair bolsonaro bolsonaro alleg widespread fraud demand recount elect commiss deni wrongdo suprem court due rule matter soon uncertainti surround elect rais concern polit instabl brazil',\n",
       " 'missil attack kramatorsk eastern ukrain kill least three civilian injur 14 wednesday accord ukrainian offici attack hit market bu stop come russia continu assault eastern donba region',\n",
       " 'unit state china accus violat airspac south china sea recent day rais concern potenti militari confront us militari said chines fighter jet came within 100 feet us navi reconnaiss plane monday china accus us send militari aircraft airspac near paracel island tuesday',\n",
       " 'north korea fire ballist missil east sea wednesday accord south korea militari launch come day north korea threaten take unprecedentedli strong action unit state south korea continu hold joint militari exercis',\n",
       " 'team astronom use jame webb space telescop found potenti sign life atmospher exoplanet locat 17 light year earth planet lh 1819b size earth habit zone star mean could potenti support liquid water surfac potenti sign life includ presenc water vapor methan carbon dioxid planet atmospher gase often associ biolog activ earth',\n",
       " 'scientist univers missouri develop lab grown chicken nugget tast textur like real thing nugget made chicken muscl cell grown lab use process call cultur meat product scientist say nugget sustain human tradit chicken nugget requir slaughter anim',\n",
       " 'new studi publish journal jama intern medicin found eat dark chocol may help improv heart health studi found peopl ate dark chocol regularli lower level ldl bad cholesterol higher level hdl good cholesterol peopl eat dark chocol studi author say result suggest dark chocol may healthi part balanc diet',\n",
       " 'food price continu rise recent month groceri bill hit record high increas food price due number factor includ war ukrain rise fuel cost suppli chain disrupt rise cost food put strain household budget particularli low incom famili',\n",
       " 'new ai power kitchen applianc call foodini cook gourmet meal minut foodini use capsul contain ingredi specif dish applianc 3d print food use varieti techniqu grill bake steam foodini still develop expect releas public 2024',\n",
       " 'food drug administr fda approv first ever genet modifi salmon human consumpt salmon produc aquabounti technolog faster grow varieti atlant salmon fda say genet modifi salmon safe eat nutriti convent salmon',\n",
       " 'nestl plan launch plant base kitkat uk 2024 new kitkat made dairi free altern milk chocol nestl say plant base kitkat tast like origin kitkat vegan friendli',\n",
       " 'pepsico plan test drone deliveri gatorad florida 2024 drone use deliv gatorad custom remot area particip outdoor activ pepsico say drone deliveri could help reduc deliveri time improv custom satisfact',\n",
       " 'starbuck plan open first drive thru store itali 2024 drive thru store locat milan starbuck say drive thru store design cater busi lifestyl milanes custom',\n",
       " 'mcdonald plan test plant base mcplant burger us 2024 mcplant burger made patti made beyond meat mcdonald say mcplant burger design appeal custom look plant base option',\n",
       " 'michelin guid anoth prestigi culinari award releas 2024 rate new york citi restaur list includ 12 new two star restaur 14 new one star restaur notabl eleven madison park three star restaur citi drop two star',\n",
       " 'fast food chain expect rais price 2024 due rise cost ingredi labor packag latest string price increas happen past year',\n",
       " 'sale plant base meat continu grow peopl look altern tradit meat trend driven number factor includ concern environ anim welfar person health',\n",
       " 'groceri store price expect continu rise 2024 due number factor includ war ukrain suppli chain disrupt rise cost fuel labor',\n",
       " 'new studi found coffe may help protect alzheim diseas studi publish journal jama intern medicin found peopl drank three cup coffe per day less like develop alzheim diseas drank coffe one cup per day',\n",
       " 'anoth studi publish journal circul found dark chocol may also help protect heart diseas studi found peopl ate dark chocol regularli lower level ldl cholesterol bad cholesterol higher level hdl cholesterol good cholesterol',\n",
       " 'new food trend call ugli produc gain popular ugli produc fruit veget perfectli edibl cosmet imperfect misshapen discolor small fruit veget often discard supermarket meet appear standard howev ugli produc often nutriti delici attract counterpart much cheaper',\n",
       " 'food bank see increas demand servic peopl struggl afford food rise cost groceri one main factor contribut increas demand',\n",
       " 'restaur face labor shortag mani worker leav industri higher pay job concern covid 19 pandem make difficult restaur find retain employe',\n",
       " 'new deliveri app launch allow peopl order meal restaur deliv home offic app design make easier conveni peopl get restaur meal deliv',\n",
       " 'popular meal kit servic expand new citi servic provid custom ingredi instruct need cook meal home',\n",
       " 'new cookbook releas focus sustain cook cookbook includ recip made local sourc ingredi use food wast',\n",
       " 'promin newspap compani file lawsuit openai googl ai claim larg languag model chatgpt bard respect infring copyright new york time articl mark signific develop ongo debat ai intellectu properti ownership',\n",
       " 'recent ai big data expo london held discuss crucial issu surround respons ai develop deploy expert emphas need clear ethic guidelin effect govern structur ensur ai benefit societi whole',\n",
       " 'team stanford univers creat new type artifici neuron emul biolog function human synaps breakthrough could lead effici power machin learn algorithm',\n",
       " 'scientist use ai power simul shed light evolutionari diverg flight pattern insect research offer valuabl insight origin adapt insect flight',\n",
       " 'collabor project birder ai research util machin learn identifi track bird speci greater accuraci effici contribut significantli avian conserv effort',\n",
       " 'us depart commerc launch comprehens nation ai initi aim strengthen america leadership field artifici intellig initi focus research develop deploy ai technolog across variou sector',\n",
       " 'ai big data expo showcas innov ai power market campaign success leverag data insight achiev except result exampl provid valuabl inspir busi look har power ai market purpos',\n",
       " 'rise ai gener art ignit discuss copyright intellectu properti digit age question remain whether ai creat work deserv copyright protect anyon consid artist',\n",
       " 'research report lancast univers highlight need deeper understand better manag potenti risk associ artifici intellig algorithm system report call improv risk assess mitig strategi ensur safe respons develop deploy ai',\n",
       " 'scientist explor possibl ai system develop prefer even cravin',\n",
       " 'research use ai reconstruct anatomi movement ancient marin creatur base fossil remain offer glimps divers life million year ago',\n",
       " 'recent studi foundri economist group examin potenti risk benefit implement ai within busi oper studi highlight import care consider respons deploy ai technolog',\n",
       " 'ai big data expo emphas crucial role ethic respons govern data util good develop applic artifici intellig',\n",
       " 'event also explor effect strategi leverag real time data stream ai enabl busi gain valuabl insight make inform decis real time',\n",
       " 'ai transform field market research allow effici comprehens data analysi uncov deeper consum insight guid market strategi',\n",
       " 'research mit use ai identifi new class antibiot candid could effect methicillin resist staphylococcu aureu mrsa danger drug resist bacterium ai platform analyz massiv dataset chemic compound identifi sever potenti kill mrsa research could lead develop new drug combat antibiot resist major global health threat',\n",
       " 'research mit develop new method use languag design integr circuit tini chip power comput electron devic method could make easier robot understand work integr circuit could applic varieti field manufactur robot',\n",
       " 'team research mit develop new method anim charact give artist control way charact move method base 200 year old mathemat concept call geometr mechan allow artist creat natur realist look anim',\n",
       " 'research develop new benchmark measur accuraci imag recognit system benchmark call minimum view time measur amount time human need see imag order identifi correctli research found mani today ai system good recogn imag never seen even good recogn imag train find could implic develop self drive car ai system reli imag recognit',\n",
       " 'team research mit develop new comput model predict structur molecul form chemic reaction model base type artifici intellig call gener ai could use design new drug materi catalyst',\n",
       " 'ai big data expo took place london decemb 19 20 2023 brought togeth expert around world discuss latest advanc artifici intellig big data one key theme expo use ai get valu real time data stream',\n",
       " 'ai big data expo also focus ethic implic ai big data one session expo discuss import use data good improv healthcar educ',\n",
       " 'anoth session ai big data expo discuss challeng integr ai busi ethic way session also look futur trend ai develop explain transpar ai system',\n",
       " 'recent articl artifici intellig news highlight 10 exampl ai use creat success market campaign articl featur exampl compani nike unilev coca cola',\n",
       " 'investor increasingli interest ai stock ai seen major growth market recent articl investor busi daili discuss top ai stock watch nvidia microsoft alphabet appl',\n",
       " 'research develop new tool call antifak use protect voic record synthes use deepfak antifak work identifi uniqu characterist person voic ad record way make difficult deepfak creat',\n",
       " 'new techniqu develop research univers california berkeley allow ai agent guid data crowdsourc asynchron non expert human user techniqu could use train ai agent',\n",
       " 'billi lourd share touch tribut mother carri fisher anniversari death',\n",
       " 'timoth e chalamet new film wonka receiv mix review prais visual critic lack willi wonka signatur charm',\n",
       " 'netflix share list watch film show unexpect titl like sing 2 wednesday top chart',\n",
       " 'golden globe announc nomin barbi taylor swift record lead pack send potenti messag oscar sourc cnn',\n",
       " 'adel open struggl perfection explain releas four album',\n",
       " 'teddi mellencamp undergo major surgeri remov melanoma share experi encourag earli detect',\n",
       " 'ariana grand break tear record new music hint emot vulner upcom song',\n",
       " 'bobbi river belov food network vh1 person pass away 70',\n",
       " 'sister wive continu deliv drama new episod showcas major argument famili shake up',\n",
       " 'nick cannon embrac role santa clau receiv uniqu gift featur 12 children',\n",
       " 'bobbi jean carter famili speak share respons daughter pass urg fan avoid specul',\n",
       " 'aamir khan take activ role prepar daughter ira khan upcom wed stir excit among fan',\n",
       " 'stranger thing season 5 fever alreadi grip fan specul plot twist spin off cast announc make headlin',\n",
       " 'selena gomez reveal relationship must have offer glimps seek partner amidst rumor new romanc',\n",
       " 'travi kelc star nfl player spark onlin buzz shirtless spa visit specul relationship taylor swift',\n",
       " 'taylor swift pay tribut deceas brazilian fan reveal heartbreak caus death highlight impact music',\n",
       " 'khloe kardashian unveil new famili portrait featur children true tatum showcas sweet bond famili life',\n",
       " 'teddi mellencamp undergo surgeri remov cancer tissu shoulder rais awar import regular skin check',\n",
       " 'tragic stori unfold miss pregnant teenag boyfriend found deceas san antonio leav commun mourn',\n",
       " 'taylor swift travi kelc bud romanc continu domin social media fan analyz interact celebr unexpect pair',\n",
       " 'holiday full swing 20 geniu bake hack save time stress kitchen perfectli peel ginger whip cream without mixer',\n",
       " 'food expert forecast hottest culinari trend next year includ rise african south american flavor plant base seafood altern hyper local sourc',\n",
       " 'despit recent harvest world food programm warn 345 million peopl worldwid face acut food insecur due factor like climat chang conflict',\n",
       " 'robot harvest vertic farm artifici intellig transform way grow process food rais ethic environment concern',\n",
       " 'overfish threaten marin ecosystem consciou consum seek sustain seafood option like bivalv alga base product fish rais respons aquacultur system',\n",
       " 'plant base lab grown meat altern gain traction challeng remain term cost tast scalabl expert debat potenti impact anim agricultur environ',\n",
       " 'govern busi implement innov solut tackl global food wast crisi glean program upcycl food scrap new product',\n",
       " 'grow concern food secur sustain citi dweller embrac urban farm initi rooftop garden commun plot produc fresh food local',\n",
       " 'studi suggest capsaicin compound give chili pepper heat may anti inflammatori properti boost metabol howev moder key sensit stomach',\n",
       " 'gut microbiom play crucial role overal health research uncov link diet gut health prebiot ferment food fiber rich diet tout gut friendli benefit',\n",
       " 'research suggest indulg dark chocol high cocoa content may improv mood cognit function',\n",
       " 'studi continu explor potenti health benefit moder coffe consumpt includ reduc risk type 2 diabet parkinson diseas cancer',\n",
       " 'regen agricultur practic consciou food choic help mitig climat chang reduc greenhous ga emiss promot soil health',\n",
       " 'rise plant base meat altern concern mount mislead label practic need clear transpar food product',\n",
       " 'consist evolv due trade disput technolog competit militari postur south china sea',\n",
       " 'ongo conflict ukrain nato involv syria',\n",
       " 'negoti discuss regard iran nuclear program sanction',\n",
       " 'diplomat effort manag north korea nuclear program relat neighbor countri',\n",
       " 'global effort combat climat chang agreement like pari climat accord',\n",
       " 'ever evolv dynam israel palestin neighbor countri includ peac talk conflict resolut',\n",
       " 'chang govern taliban relat intern aid post u withdraw',\n",
       " 'ongo negoti ramif uk exit european union',\n",
       " 'disput variou countri bloc us china trade war issu surround world trade organ',\n",
       " 'putin vow system chang global order war ukrain rage presid putin deliv defiant speech pledg reshap world order strengthen russia posit amid ongo war ukrain critic west nato provok conflict',\n",
       " 'us warn china escal tension taiwan militari drill us express concern recent chines militari exercis near taiwan urg restraint seek avoid escal tension two superpow',\n",
       " 'cop28 conclud cautiou progress emiss reduct pledg 28th confer parti climat chang wrap mix result progress made emiss reduct target concern remain adequaci commit meet global climat goal',\n",
       " 'north korea test fire ballist missil rais region secur concern north korea latest missil launch spark anxieti south korea japan wider region highlight ongo threat pose countri nuclear ballist missil program',\n",
       " 'talk reviv iran nuclear deal stall rais worri prolifer risk negoti aim reviv iran nuclear deal remain stall fuel concern iran potenti nuclear ambit risk prolifer middl east',\n",
       " 'ceasefir hold gaza deadli isra airstrik palestinian rocket attack fragil ceasefir take effect gaza follow sever day violenc saw isra airstrik palestinian rocket attack result casualti side',\n",
       " 'ethiopian peac talk resum offer hope end tigray conflict renew peac talk ethiopian govern tigrayan rebel provid cautiou optim potenti end devast conflict ravag countri two year',\n",
       " 'global cyberattack surg highlight grow threat state actor crimin group signific increas cyberattack target critic infrastructur busi worldwid rais concern evolv tactic capabl state sponsor hacker crimin organ',\n",
       " 'un report condemn rise human right abus afghanistan taliban rule un report paint concern pictur human right violat afghanistan taliban rule cite restrict women right crackdown dissent target attack minor',\n",
       " 'us eu reach tent agreement resolv steel aluminum tariff disput us eu reach preliminari deal address long stand trade tension steel aluminum tariff potenti breakthrough could eas trade friction two econom powerhous',\n",
       " 'string disappoint perform denver bronco bench star quarterback russel wilson turn backup jarrett stidham final game season',\n",
       " 'despit enter week 17 1 seed afc baltimor raven tri keep emot check avoid complac aim super bowl run',\n",
       " 'former jet quarterback joe flacco lead surg cleveland brown crucial matchup old team winner potenti grab playoff spot',\n",
       " 'dalla cowboy star lineback micah parson express frustrat recent offici call consist fair',\n",
       " 'new york giant turn veteran quarterback tyrod taylor center final game season lo angel ram',\n",
       " 'lo angel laker lebron jame 127 point away surpass kareem abdul jabbar nba time lead scorer leav basketbal fan edg seat',\n",
       " 'milwauke buck superstar gianni antetokounmpo sidelin wrist injuri cast doubt team chanc upcom playoff',\n",
       " 'brooklyn net receiv much need boost return star forward kevin durant injuri increas chanc reach postseason',\n",
       " 'memphi grizzli led electrifi ja morant look secur top seed western confer home court advantag throughout playoff',\n",
       " 'battl nba valuabl player award heat philadelphia 76er center joel embiid denver nugget center nikola jokic put domin perform',\n",
       " 'lionel messi final lift copa america trophi argentina cap remark intern career continent championship',\n",
       " 'kylian mbapp brillianc help franc defeat spain uefa nation leagu final solidifi statu one world top footbal nation',\n",
       " 'tenni legend rafael nadal continu break record claim 14th french open titl assert domin clay',\n",
       " 'gymnast superstar simon bile made success comeback world championship win medal show resili take step back mental health',\n",
       " 'merican snowboard chloe kim success defend olymp gold medal halfpip event showcas incred talent athletic',\n",
       " 'red bull driver max verstappen secur second consecut formula one championship domin season',\n",
       " 'golf legend tiger wood return competit action pnc championship play alongsid son charli heartwarm display famili sportsmanship',\n",
       " 'novak djokov claim seventh wimbledon titl surpass roger feder record championship prestigi tournament',\n",
       " 'highli anticip rubber match ufc star dustin poirier conor mcgregor final happen promis electrifi showdown',\n",
       " 'us economi shrank annual rate 0 6 third quarter mark first neg read sinc pandem began fuel concern potenti recess although economist believ could temporari blip',\n",
       " 'central bank around world includ feder reserv european central bank signal intent continu rais interest rate come month combat inflat could dampen econom growth short term',\n",
       " 'suppli chain bottleneck improv somewhat inflationari pressur persist due factor like war ukrain ongo pandem disrupt keep price high consum busi alik',\n",
       " 'global energi market remain volatil due ongo war ukrain geopolit tension led price fluctuat oil ga energi commod impact economi worldwid',\n",
       " 'tech sector beacon growth experienc wave layoff compani adjust chang econom climat impact larg small compani across industri',\n",
       " 'cryptocurr market seen signific declin recent month bitcoin major currenc lose larg portion valu part broader sell riskier asset investor seek safer haven',\n",
       " 'china real estat sector major driver countri economi face signific challeng could rippl effect global economi china major trade partner mani countri',\n",
       " 'trade tension us china remain high countri impos tariff good could disrupt global suppli chain hurt busi side',\n",
       " 'econom risk associ climat chang becom increasingli appar extrem weather event rise sea level climat impact caus billion dollar damag disrupt econom activ',\n",
       " 'gap rich poor widen cost live rise faster wage mani worker lead increas social unrest polit instabl countri',\n",
       " 'unit nation warn global food secur crisi million peopl face hunger due factor like conflict climat chang rise food price un call intern cooper address crisi',\n",
       " 'african union unveil plan boost trade within contin goal doubl intra african trade 2030 could help spur econom growth develop across africa',\n",
       " 'g20 leader pledg invest infrastructur develop project aim boost global econom growth could creat job opportun develop countri',\n",
       " 'busi increasingli turn digit technolog adapt chang econom landscap includ autom artifici intellig e commerc',\n",
       " 'autom artifici intellig chang natur work job replac machin rais concern job displac need retrain program',\n",
       " 'gig economi peopl work temporari freelanc job grow rapidli howev gig worker often face challeng lack benefit job secur',\n",
       " 'univers flu vaccin could protect multipl strain viru shown promis result earli stage clinic trial vaccin develop scientist nation institut health found safe well toler healthi adult also produc immun respons varieti flu strain',\n",
       " 'research develop new gene therapi could potenti revers hear loss adult therapi involv inject harmless viru inner ear deliv gene help hair cell respons hear regener studi mice therapi found restor hear loss caus loud nois exposur',\n",
       " 'grow bodi research suggest gut bacteria may play role develop alzheim diseas studi shown peopl alzheim diseas differ gut bacteria healthi peopl research believ gut bacteria may produc toxin damag brain other believ may disrupt commun gut brain',\n",
       " 'new studi found link air pollut heart diseas studi follow 80 000 peopl 20 year found peopl live area higher level air pollut like develop heart diseas research believ air pollut may damag heart blood vessel lead increas risk heart attack stroke',\n",
       " 'new studi found exercis may help reduc risk dementia studi follow 2 million peopl 10 year found peopl physic activ less like develop dementia research believ exercis may help improv blood flow brain protect brain cell damag',\n",
       " 'research develop new blood test may abl detect cancer earli test still earli stage develop look chang dna associ cancer small studi test abl detect cancer 70 particip',\n",
       " 'scientist develop 3d print pill could revolution drug deliveri pill custom design releas medic specif time specif locat bodi could make drug effect reduc side effect',\n",
       " 'artifici intellig ai use develop new way diagnos diseas ai algorithm analyz larg amount medic data medic imag electron health record identifi pattern may indic diseas could help doctor diagnos diseas earlier accur',\n",
       " 'gene edit power new technolog allow scientist make chang dna technolog potenti cure genet diseas correct mutat caus howev still mani ethic safeti concern surround gene edit',\n",
       " 'climat chang major threat global health alreadi caus heat wave flood drought extrem weather event displac peopl destroy crop spread diseas climat chang also contribut air pollut worsen respiratori diseas',\n",
       " 'scientist develop new drug may help treat parkinson diseas drug call levidopa work increas level dopamin brain dopamin neurotransmitt essenti movement small studi levidopa found improv motor skill peopl parkinson diseas',\n",
       " 'new studi found link sleep apnea diabet sleep apnea condit breath interrupt sleep studi found peopl sleep apnea like develop diabet research believ sleep apnea may disrupt bodi abil regul insulin hormon help control blood sugar level',\n",
       " 'medit practic involv focus mind present moment grow bodi research suggest medit may help reduc stress anxieti studi shown medit lower blood pressur heart rate cortisol level marker stress',\n",
       " '2023 us midterm elect result divid congress republican take control hous repres democrat retain senat outcom larg line expect parti make gain loss differ part countri',\n",
       " 'war ukrain continu end sight side dug long bloodi winter russia made gain eastern ukrain offens stall area ukrainian forc launch counteroffens abl retak signific territori',\n",
       " 'chines presid xi jinp secur third term offic consolid power cement china rise global superpow xi reelect mark break two term limit place sinc 1990',\n",
       " '28th confer parti unit nation framework convent climat chang cop28 end mix result progress made key issu reduc greenhous ga emiss provid financi assist develop countri mani expert say need done avert climat catastroph',\n",
       " 'global economi face number challeng includ rise interest rate inflat war ukrain factor led fear recess 2024',\n",
       " 'populist movement right left gain ground around world movement often character opposit global immigr establish']"
      ]
     },
     "execution_count": 495,
     "metadata": {},
     "output_type": "execute_result"
    }
   ],
   "source": [
    "corpus=[]\n",
    "for i in range(len(df)):\n",
    "    review= re.sub('[^a-zA-Z0-9]', ' ' ,df['News'][i])\n",
    "    review=review.lower()\n",
    "    review=review.split()\n",
    "    review=[ps.stem(word) for word in review if not word in stop_word]\n",
    "    review=' '.join(review)\n",
    "    corpus.append(review)\n",
    "    \n",
    "corpus"
   ]
  },
  {
   "cell_type": "code",
   "execution_count": 496,
   "metadata": {},
   "outputs": [
    {
     "name": "stdout",
     "output_type": "stream",
     "text": [
      "(252, 2154)\n"
     ]
    }
   ],
   "source": [
    "from sklearn.feature_extraction.text import TfidfVectorizer\n",
    "tfidf=TfidfVectorizer()\n",
    "X= tfidf.fit_transform(corpus)\n",
    "print(X.shape)"
   ]
  },
  {
   "cell_type": "code",
   "execution_count": 497,
   "metadata": {},
   "outputs": [
    {
     "name": "stdout",
     "output_type": "stream",
     "text": [
      "(252,)\n"
     ]
    }
   ],
   "source": [
    "import pandas as pd\n",
    "y=pd.get_dummies(df['Category'])\n",
    "y=y.iloc[:,-1].values\n",
    "print(y.shape)"
   ]
  },
  {
   "cell_type": "code",
   "execution_count": 498,
   "metadata": {},
   "outputs": [
    {
     "name": "stdout",
     "output_type": "stream",
     "text": [
      "(252, 2154)\n"
     ]
    }
   ],
   "source": [
    "# Train Test Split\n",
    "print(X.shape)\n",
    "from sklearn.model_selection import train_test_split\n",
    "X_train, X_test, y_train, y_test = train_test_split(X, y, test_size = 0.20, random_state = 0)\n"
   ]
  },
  {
   "cell_type": "code",
   "execution_count": 499,
   "metadata": {},
   "outputs": [
    {
     "data": {
      "text/html": [
       "<style>#sk-container-id-32 {color: black;}#sk-container-id-32 pre{padding: 0;}#sk-container-id-32 div.sk-toggleable {background-color: white;}#sk-container-id-32 label.sk-toggleable__label {cursor: pointer;display: block;width: 100%;margin-bottom: 0;padding: 0.3em;box-sizing: border-box;text-align: center;}#sk-container-id-32 label.sk-toggleable__label-arrow:before {content: \"▸\";float: left;margin-right: 0.25em;color: #696969;}#sk-container-id-32 label.sk-toggleable__label-arrow:hover:before {color: black;}#sk-container-id-32 div.sk-estimator:hover label.sk-toggleable__label-arrow:before {color: black;}#sk-container-id-32 div.sk-toggleable__content {max-height: 0;max-width: 0;overflow: hidden;text-align: left;background-color: #f0f8ff;}#sk-container-id-32 div.sk-toggleable__content pre {margin: 0.2em;color: black;border-radius: 0.25em;background-color: #f0f8ff;}#sk-container-id-32 input.sk-toggleable__control:checked~div.sk-toggleable__content {max-height: 200px;max-width: 100%;overflow: auto;}#sk-container-id-32 input.sk-toggleable__control:checked~label.sk-toggleable__label-arrow:before {content: \"▾\";}#sk-container-id-32 div.sk-estimator input.sk-toggleable__control:checked~label.sk-toggleable__label {background-color: #d4ebff;}#sk-container-id-32 div.sk-label input.sk-toggleable__control:checked~label.sk-toggleable__label {background-color: #d4ebff;}#sk-container-id-32 input.sk-hidden--visually {border: 0;clip: rect(1px 1px 1px 1px);clip: rect(1px, 1px, 1px, 1px);height: 1px;margin: -1px;overflow: hidden;padding: 0;position: absolute;width: 1px;}#sk-container-id-32 div.sk-estimator {font-family: monospace;background-color: #f0f8ff;border: 1px dotted black;border-radius: 0.25em;box-sizing: border-box;margin-bottom: 0.5em;}#sk-container-id-32 div.sk-estimator:hover {background-color: #d4ebff;}#sk-container-id-32 div.sk-parallel-item::after {content: \"\";width: 100%;border-bottom: 1px solid gray;flex-grow: 1;}#sk-container-id-32 div.sk-label:hover label.sk-toggleable__label {background-color: #d4ebff;}#sk-container-id-32 div.sk-serial::before {content: \"\";position: absolute;border-left: 1px solid gray;box-sizing: border-box;top: 0;bottom: 0;left: 50%;z-index: 0;}#sk-container-id-32 div.sk-serial {display: flex;flex-direction: column;align-items: center;background-color: white;padding-right: 0.2em;padding-left: 0.2em;position: relative;}#sk-container-id-32 div.sk-item {position: relative;z-index: 1;}#sk-container-id-32 div.sk-parallel {display: flex;align-items: stretch;justify-content: center;background-color: white;position: relative;}#sk-container-id-32 div.sk-item::before, #sk-container-id-32 div.sk-parallel-item::before {content: \"\";position: absolute;border-left: 1px solid gray;box-sizing: border-box;top: 0;bottom: 0;left: 50%;z-index: -1;}#sk-container-id-32 div.sk-parallel-item {display: flex;flex-direction: column;z-index: 1;position: relative;background-color: white;}#sk-container-id-32 div.sk-parallel-item:first-child::after {align-self: flex-end;width: 50%;}#sk-container-id-32 div.sk-parallel-item:last-child::after {align-self: flex-start;width: 50%;}#sk-container-id-32 div.sk-parallel-item:only-child::after {width: 0;}#sk-container-id-32 div.sk-dashed-wrapped {border: 1px dashed gray;margin: 0 0.4em 0.5em 0.4em;box-sizing: border-box;padding-bottom: 0.4em;background-color: white;}#sk-container-id-32 div.sk-label label {font-family: monospace;font-weight: bold;display: inline-block;line-height: 1.2em;}#sk-container-id-32 div.sk-label-container {text-align: center;}#sk-container-id-32 div.sk-container {/* jupyter's `normalize.less` sets `[hidden] { display: none; }` but bootstrap.min.css set `[hidden] { display: none !important; }` so we also need the `!important` here to be able to override the default hidden behavior on the sphinx rendered scikit-learn.org. See: https://github.com/scikit-learn/scikit-learn/issues/21755 */display: inline-block !important;position: relative;}#sk-container-id-32 div.sk-text-repr-fallback {display: none;}</style><div id=\"sk-container-id-32\" class=\"sk-top-container\"><div class=\"sk-text-repr-fallback\"><pre>MultinomialNB()</pre><b>In a Jupyter environment, please rerun this cell to show the HTML representation or trust the notebook. <br />On GitHub, the HTML representation is unable to render, please try loading this page with nbviewer.org.</b></div><div class=\"sk-container\" hidden><div class=\"sk-item\"><div class=\"sk-estimator sk-toggleable\"><input class=\"sk-toggleable__control sk-hidden--visually\" id=\"sk-estimator-id-32\" type=\"checkbox\" checked><label for=\"sk-estimator-id-32\" class=\"sk-toggleable__label sk-toggleable__label-arrow\">MultinomialNB</label><div class=\"sk-toggleable__content\"><pre>MultinomialNB()</pre></div></div></div></div></div>"
      ],
      "text/plain": [
       "MultinomialNB()"
      ]
     },
     "execution_count": 499,
     "metadata": {},
     "output_type": "execute_result"
    }
   ],
   "source": [
    "from sklearn.naive_bayes import MultinomialNB\n",
    "new_category=MultinomialNB()\n",
    "new_category.fit(X_train,y_train)"
   ]
  },
  {
   "cell_type": "code",
   "execution_count": 500,
   "metadata": {},
   "outputs": [],
   "source": [
    "#prediction\n",
    "y_pred=new_category.predict(X_test)"
   ]
  },
  {
   "cell_type": "code",
   "execution_count": 501,
   "metadata": {},
   "outputs": [
    {
     "name": "stdout",
     "output_type": "stream",
     "text": [
      "0.8823529411764706\n"
     ]
    }
   ],
   "source": [
    "from sklearn.metrics import accuracy_score , classification_report\n",
    "score=accuracy_score(y_test,y_pred)\n",
    "print(score)"
   ]
  },
  {
   "cell_type": "code",
   "execution_count": 502,
   "metadata": {},
   "outputs": [
    {
     "name": "stdout",
     "output_type": "stream",
     "text": [
      "              precision    recall  f1-score   support\n",
      "\n",
      "       False       0.88      1.00      0.94        45\n",
      "        True       0.00      0.00      0.00         6\n",
      "\n",
      "    accuracy                           0.88        51\n",
      "   macro avg       0.44      0.50      0.47        51\n",
      "weighted avg       0.78      0.88      0.83        51\n",
      "\n"
     ]
    },
    {
     "name": "stderr",
     "output_type": "stream",
     "text": [
      "/Users/bhaskaradhikari/anaconda3/lib/python3.11/site-packages/sklearn/metrics/_classification.py:1469: UndefinedMetricWarning: Precision and F-score are ill-defined and being set to 0.0 in labels with no predicted samples. Use `zero_division` parameter to control this behavior.\n",
      "  _warn_prf(average, modifier, msg_start, len(result))\n",
      "/Users/bhaskaradhikari/anaconda3/lib/python3.11/site-packages/sklearn/metrics/_classification.py:1469: UndefinedMetricWarning: Precision and F-score are ill-defined and being set to 0.0 in labels with no predicted samples. Use `zero_division` parameter to control this behavior.\n",
      "  _warn_prf(average, modifier, msg_start, len(result))\n",
      "/Users/bhaskaradhikari/anaconda3/lib/python3.11/site-packages/sklearn/metrics/_classification.py:1469: UndefinedMetricWarning: Precision and F-score are ill-defined and being set to 0.0 in labels with no predicted samples. Use `zero_division` parameter to control this behavior.\n",
      "  _warn_prf(average, modifier, msg_start, len(result))\n"
     ]
    }
   ],
   "source": [
    "report=classification_report(y_test,y_pred)\n",
    "print(report)"
   ]
  },
  {
   "cell_type": "code",
   "execution_count": 503,
   "metadata": {},
   "outputs": [
    {
     "data": {
      "text/html": [
       "<style>#sk-container-id-33 {color: black;}#sk-container-id-33 pre{padding: 0;}#sk-container-id-33 div.sk-toggleable {background-color: white;}#sk-container-id-33 label.sk-toggleable__label {cursor: pointer;display: block;width: 100%;margin-bottom: 0;padding: 0.3em;box-sizing: border-box;text-align: center;}#sk-container-id-33 label.sk-toggleable__label-arrow:before {content: \"▸\";float: left;margin-right: 0.25em;color: #696969;}#sk-container-id-33 label.sk-toggleable__label-arrow:hover:before {color: black;}#sk-container-id-33 div.sk-estimator:hover label.sk-toggleable__label-arrow:before {color: black;}#sk-container-id-33 div.sk-toggleable__content {max-height: 0;max-width: 0;overflow: hidden;text-align: left;background-color: #f0f8ff;}#sk-container-id-33 div.sk-toggleable__content pre {margin: 0.2em;color: black;border-radius: 0.25em;background-color: #f0f8ff;}#sk-container-id-33 input.sk-toggleable__control:checked~div.sk-toggleable__content {max-height: 200px;max-width: 100%;overflow: auto;}#sk-container-id-33 input.sk-toggleable__control:checked~label.sk-toggleable__label-arrow:before {content: \"▾\";}#sk-container-id-33 div.sk-estimator input.sk-toggleable__control:checked~label.sk-toggleable__label {background-color: #d4ebff;}#sk-container-id-33 div.sk-label input.sk-toggleable__control:checked~label.sk-toggleable__label {background-color: #d4ebff;}#sk-container-id-33 input.sk-hidden--visually {border: 0;clip: rect(1px 1px 1px 1px);clip: rect(1px, 1px, 1px, 1px);height: 1px;margin: -1px;overflow: hidden;padding: 0;position: absolute;width: 1px;}#sk-container-id-33 div.sk-estimator {font-family: monospace;background-color: #f0f8ff;border: 1px dotted black;border-radius: 0.25em;box-sizing: border-box;margin-bottom: 0.5em;}#sk-container-id-33 div.sk-estimator:hover {background-color: #d4ebff;}#sk-container-id-33 div.sk-parallel-item::after {content: \"\";width: 100%;border-bottom: 1px solid gray;flex-grow: 1;}#sk-container-id-33 div.sk-label:hover label.sk-toggleable__label {background-color: #d4ebff;}#sk-container-id-33 div.sk-serial::before {content: \"\";position: absolute;border-left: 1px solid gray;box-sizing: border-box;top: 0;bottom: 0;left: 50%;z-index: 0;}#sk-container-id-33 div.sk-serial {display: flex;flex-direction: column;align-items: center;background-color: white;padding-right: 0.2em;padding-left: 0.2em;position: relative;}#sk-container-id-33 div.sk-item {position: relative;z-index: 1;}#sk-container-id-33 div.sk-parallel {display: flex;align-items: stretch;justify-content: center;background-color: white;position: relative;}#sk-container-id-33 div.sk-item::before, #sk-container-id-33 div.sk-parallel-item::before {content: \"\";position: absolute;border-left: 1px solid gray;box-sizing: border-box;top: 0;bottom: 0;left: 50%;z-index: -1;}#sk-container-id-33 div.sk-parallel-item {display: flex;flex-direction: column;z-index: 1;position: relative;background-color: white;}#sk-container-id-33 div.sk-parallel-item:first-child::after {align-self: flex-end;width: 50%;}#sk-container-id-33 div.sk-parallel-item:last-child::after {align-self: flex-start;width: 50%;}#sk-container-id-33 div.sk-parallel-item:only-child::after {width: 0;}#sk-container-id-33 div.sk-dashed-wrapped {border: 1px dashed gray;margin: 0 0.4em 0.5em 0.4em;box-sizing: border-box;padding-bottom: 0.4em;background-color: white;}#sk-container-id-33 div.sk-label label {font-family: monospace;font-weight: bold;display: inline-block;line-height: 1.2em;}#sk-container-id-33 div.sk-label-container {text-align: center;}#sk-container-id-33 div.sk-container {/* jupyter's `normalize.less` sets `[hidden] { display: none; }` but bootstrap.min.css set `[hidden] { display: none !important; }` so we also need the `!important` here to be able to override the default hidden behavior on the sphinx rendered scikit-learn.org. See: https://github.com/scikit-learn/scikit-learn/issues/21755 */display: inline-block !important;position: relative;}#sk-container-id-33 div.sk-text-repr-fallback {display: none;}</style><div id=\"sk-container-id-33\" class=\"sk-top-container\"><div class=\"sk-text-repr-fallback\"><pre>RandomForestClassifier()</pre><b>In a Jupyter environment, please rerun this cell to show the HTML representation or trust the notebook. <br />On GitHub, the HTML representation is unable to render, please try loading this page with nbviewer.org.</b></div><div class=\"sk-container\" hidden><div class=\"sk-item\"><div class=\"sk-estimator sk-toggleable\"><input class=\"sk-toggleable__control sk-hidden--visually\" id=\"sk-estimator-id-33\" type=\"checkbox\" checked><label for=\"sk-estimator-id-33\" class=\"sk-toggleable__label sk-toggleable__label-arrow\">RandomForestClassifier</label><div class=\"sk-toggleable__content\"><pre>RandomForestClassifier()</pre></div></div></div></div></div>"
      ],
      "text/plain": [
       "RandomForestClassifier()"
      ]
     },
     "execution_count": 503,
     "metadata": {},
     "output_type": "execute_result"
    }
   ],
   "source": [
    "#by using random tree \n",
    "from sklearn.ensemble import RandomForestClassifier\n",
    "rf=RandomForestClassifier()\n",
    "rf.fit(X_train,y_train)"
   ]
  },
  {
   "cell_type": "code",
   "execution_count": 504,
   "metadata": {},
   "outputs": [],
   "source": [
    "#prediction \n",
    "y_pred=rf.predict(X_test)"
   ]
  },
  {
   "cell_type": "code",
   "execution_count": 505,
   "metadata": {},
   "outputs": [
    {
     "data": {
      "text/plain": [
       "0.8823529411764706"
      ]
     },
     "execution_count": 505,
     "metadata": {},
     "output_type": "execute_result"
    }
   ],
   "source": [
    "#score \n",
    "score=accuracy_score(y_test,y_pred)\n",
    "score"
   ]
  },
  {
   "cell_type": "code",
   "execution_count": 506,
   "metadata": {},
   "outputs": [
    {
     "name": "stdout",
     "output_type": "stream",
     "text": [
      "              precision    recall  f1-score   support\n",
      "\n",
      "       False       0.88      1.00      0.94        45\n",
      "        True       0.00      0.00      0.00         6\n",
      "\n",
      "    accuracy                           0.88        51\n",
      "   macro avg       0.44      0.50      0.47        51\n",
      "weighted avg       0.78      0.88      0.83        51\n",
      "\n"
     ]
    },
    {
     "name": "stderr",
     "output_type": "stream",
     "text": [
      "/Users/bhaskaradhikari/anaconda3/lib/python3.11/site-packages/sklearn/metrics/_classification.py:1469: UndefinedMetricWarning: Precision and F-score are ill-defined and being set to 0.0 in labels with no predicted samples. Use `zero_division` parameter to control this behavior.\n",
      "  _warn_prf(average, modifier, msg_start, len(result))\n",
      "/Users/bhaskaradhikari/anaconda3/lib/python3.11/site-packages/sklearn/metrics/_classification.py:1469: UndefinedMetricWarning: Precision and F-score are ill-defined and being set to 0.0 in labels with no predicted samples. Use `zero_division` parameter to control this behavior.\n",
      "  _warn_prf(average, modifier, msg_start, len(result))\n",
      "/Users/bhaskaradhikari/anaconda3/lib/python3.11/site-packages/sklearn/metrics/_classification.py:1469: UndefinedMetricWarning: Precision and F-score are ill-defined and being set to 0.0 in labels with no predicted samples. Use `zero_division` parameter to control this behavior.\n",
      "  _warn_prf(average, modifier, msg_start, len(result))\n"
     ]
    }
   ],
   "source": [
    "report=classification_report(y_test,y_pred)\n",
    "print(report)\n"
   ]
  }
 ],
 "metadata": {
  "kernelspec": {
   "display_name": "Python 3 (ipykernel)",
   "language": "python",
   "name": "python3"
  },
  "language_info": {
   "codemirror_mode": {
    "name": "ipython",
    "version": 3
   },
   "file_extension": ".py",
   "mimetype": "text/x-python",
   "name": "python",
   "nbconvert_exporter": "python",
   "pygments_lexer": "ipython3",
   "version": "3.11.5"
  }
 },
 "nbformat": 4,
 "nbformat_minor": 2
}
